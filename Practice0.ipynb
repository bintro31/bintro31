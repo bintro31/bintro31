{
  "nbformat": 4,
  "nbformat_minor": 0,
  "metadata": {
    "colab": {
      "provenance": [],
      "authorship_tag": "ABX9TyP2g5Ca0/Wq6IoNkW7fLYcJ",
      "include_colab_link": true
    },
    "kernelspec": {
      "name": "python3",
      "display_name": "Python 3"
    },
    "language_info": {
      "name": "python"
    }
  },
  "cells": [
    {
      "cell_type": "markdown",
      "metadata": {
        "id": "view-in-github",
        "colab_type": "text"
      },
      "source": [
        "<a href=\"https://colab.research.google.com/github/bintro31/bintro31/blob/main/Practice0.ipynb\" target=\"_parent\"><img src=\"https://colab.research.google.com/assets/colab-badge.svg\" alt=\"Open In Colab\"/></a>"
      ]
    },
    {
      "cell_type": "markdown",
      "source": [
        "printing output"
      ],
      "metadata": {
        "id": "1cmbXj6R_W1I"
      }
    },
    {
      "cell_type": "code",
      "execution_count": 1,
      "metadata": {
        "colab": {
          "base_uri": "https://localhost:8080/"
        },
        "id": "4oZejlfR8GOS",
        "outputId": "4b69c575-ed47-4b1b-cdc7-1d0e2c4edbb2"
      },
      "outputs": [
        {
          "output_type": "stream",
          "name": "stdout",
          "text": [
            "Hello, world!\n"
          ]
        }
      ],
      "source": [
        "print(\"Hello, world!\")"
      ]
    },
    {
      "cell_type": "markdown",
      "source": [
        "Variables and Data Types"
      ],
      "metadata": {
        "id": "Q1q5Fako_gH6"
      }
    },
    {
      "cell_type": "code",
      "source": [
        "name = \"Bee\"  # String\n",
        "age = 31 # Integer\n",
        "height = 5.9 # Float\n",
        "is_student = True # Boolean\n",
        "print(name, age, height, is_student)"
      ],
      "metadata": {
        "colab": {
          "base_uri": "https://localhost:8080/"
        },
        "id": "UsK3Im5T9L6S",
        "outputId": "aa04f55d-dfa7-4546-930c-2ddb5cf50092"
      },
      "execution_count": 4,
      "outputs": [
        {
          "output_type": "stream",
          "name": "stdout",
          "text": [
            "Bee 31 5.9 True\n"
          ]
        }
      ]
    },
    {
      "cell_type": "markdown",
      "source": [
        "Basic Arithmethic"
      ],
      "metadata": {
        "id": "JLtwCr7N_l8K"
      }
    },
    {
      "cell_type": "code",
      "source": [
        "a = 10\n",
        "b = 5\n",
        "sum_result = a + b\n",
        "diff = a - b\n",
        "product = a * b\n",
        "quotient = a/b\n",
        "modulus = a % b\n",
        "print(sum_result, diff, product, quotient, modulus)"
      ],
      "metadata": {
        "colab": {
          "base_uri": "https://localhost:8080/"
        },
        "id": "RG14TiZN9TZF",
        "outputId": "257576b8-7b35-4ac2-e131-a669ea539394"
      },
      "execution_count": 7,
      "outputs": [
        {
          "output_type": "stream",
          "name": "stdout",
          "text": [
            "15 5 50 2.0 0\n"
          ]
        }
      ]
    },
    {
      "cell_type": "markdown",
      "source": [
        "Conditional Statements"
      ],
      "metadata": {
        "id": "S8dX-s0pAnGp"
      }
    },
    {
      "cell_type": "code",
      "source": [
        "age = 21\n",
        "\n",
        "if age >= 21:\n",
        "  print(\"You are and Adult\")\n",
        "else:\n",
        "  print(\"You are a minor\")"
      ],
      "metadata": {
        "colab": {
          "base_uri": "https://localhost:8080/"
        },
        "id": "1p7TEli9_PIr",
        "outputId": "4001a3f8-9e3e-4f0b-f5d3-750d36b996ac"
      },
      "execution_count": 10,
      "outputs": [
        {
          "output_type": "stream",
          "name": "stdout",
          "text": [
            "You are and Adult\n"
          ]
        }
      ]
    },
    {
      "cell_type": "markdown",
      "source": [
        "Loops"
      ],
      "metadata": {
        "id": "9tUA9C7bAzBj"
      }
    },
    {
      "cell_type": "code",
      "source": [
        "for i in range(5):\n",
        "  print(\"Interation:\", i)"
      ],
      "metadata": {
        "colab": {
          "base_uri": "https://localhost:8080/"
        },
        "id": "rhFP07rrA0mV",
        "outputId": "9ce302cd-0f02-4ff6-e4b1-e68fcb196f8d"
      },
      "execution_count": 14,
      "outputs": [
        {
          "output_type": "stream",
          "name": "stdout",
          "text": [
            "Interation: 0\n",
            "Interation: 1\n",
            "Interation: 2\n",
            "Interation: 3\n",
            "Interation: 4\n"
          ]
        }
      ]
    },
    {
      "cell_type": "markdown",
      "source": [
        "While Loops"
      ],
      "metadata": {
        "id": "Bgt5lDL2C6By"
      }
    },
    {
      "cell_type": "code",
      "source": [
        "count = 0\n",
        "while  count < 5:\n",
        "  print(\"Count is :\", count)\n",
        "  count += 1"
      ],
      "metadata": {
        "colab": {
          "base_uri": "https://localhost:8080/"
        },
        "id": "vWZkoDc1A-xh",
        "outputId": "72cb5b29-0aeb-4869-8749-76494b37f883"
      },
      "execution_count": 15,
      "outputs": [
        {
          "output_type": "stream",
          "name": "stdout",
          "text": [
            "Count is : 0\n",
            "Count is : 1\n",
            "Count is : 2\n",
            "Count is : 3\n",
            "Count is : 4\n"
          ]
        }
      ]
    },
    {
      "cell_type": "markdown",
      "source": [
        "Functions"
      ],
      "metadata": {
        "id": "lINr5uJSJ9QA"
      }
    },
    {
      "cell_type": "code",
      "source": [
        "def greet(name):\n",
        "  return \"Hello, \" + name + \"!\"\n",
        "print(greet(\"Bradley\"))"
      ],
      "metadata": {
        "colab": {
          "base_uri": "https://localhost:8080/"
        },
        "id": "ahW-uarTKAnx",
        "outputId": "8efbb359-d856-438f-f083-d74688e7f780"
      },
      "execution_count": 18,
      "outputs": [
        {
          "output_type": "stream",
          "name": "stdout",
          "text": [
            "Hello, Bradley!\n"
          ]
        }
      ]
    },
    {
      "cell_type": "markdown",
      "source": [
        "List (Arrays)\n"
      ],
      "metadata": {
        "id": "57UUyfKTKfx3"
      }
    },
    {
      "cell_type": "code",
      "source": [
        "fruits = [\"apple\", \"banana\", \"cherry\"]\n",
        "print(fruits[0])\n",
        "fruits.append(\"orange\")\n",
        "print(fruits)"
      ],
      "metadata": {
        "colab": {
          "base_uri": "https://localhost:8080/"
        },
        "id": "M-BrQmktYQBt",
        "outputId": "0be49dcc-b83b-45f1-9488-c426fa7ccdfe"
      },
      "execution_count": 21,
      "outputs": [
        {
          "output_type": "stream",
          "name": "stdout",
          "text": [
            "apple\n",
            "['apple', 'banana', 'cherry', 'orange']\n"
          ]
        }
      ]
    },
    {
      "cell_type": "markdown",
      "source": [
        "Dictionaries (Key-Value pairs)"
      ],
      "metadata": {
        "id": "sizQnadlZVPY"
      }
    },
    {
      "cell_type": "code",
      "source": [
        "person = {\"name\": \"Bradley\", \"age\": \"31\", \"city\": \"Houston\"}\n",
        "print(person[\"name\"])"
      ],
      "metadata": {
        "colab": {
          "base_uri": "https://localhost:8080/"
        },
        "id": "Nl7JdVmbZbf5",
        "outputId": "9a3a00f0-6240-48fd-b4fc-ce4609bd4753"
      },
      "execution_count": 23,
      "outputs": [
        {
          "output_type": "stream",
          "name": "stdout",
          "text": [
            "Bradley\n"
          ]
        }
      ]
    },
    {
      "cell_type": "markdown",
      "source": [],
      "metadata": {
        "id": "SyIGMmBMaXGH"
      }
    }
  ]
}