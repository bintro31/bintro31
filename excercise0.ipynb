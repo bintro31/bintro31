{
  "nbformat": 4,
  "nbformat_minor": 0,
  "metadata": {
    "colab": {
      "provenance": [],
      "authorship_tag": "ABX9TyPeryU3tMINsTcYvVthXLBV",
      "include_colab_link": true
    },
    "kernelspec": {
      "name": "python3",
      "display_name": "Python 3"
    },
    "language_info": {
      "name": "python"
    }
  },
  "cells": [
    {
      "cell_type": "markdown",
      "metadata": {
        "id": "view-in-github",
        "colab_type": "text"
      },
      "source": [
        "<a href=\"https://colab.research.google.com/github/bintro31/bintro31/blob/main/excercise0.ipynb\" target=\"_parent\"><img src=\"https://colab.research.google.com/assets/colab-badge.svg\" alt=\"Open In Colab\"/></a>"
      ]
    },
    {
      "cell_type": "markdown",
      "source": [
        "Simple calculator"
      ],
      "metadata": {
        "id": "uFj5rLo8bOag"
      }
    },
    {
      "source": [
        "name = input(\"enter your name:\")\n",
        "print(\"Hello, \" + name +\" ! Welcome to Python.\") # Changed 'Name' to 'name'"
      ],
      "cell_type": "code",
      "metadata": {
        "colab": {
          "base_uri": "https://localhost:8080/"
        },
        "id": "M-XVUZl1dtYC",
        "outputId": "abbaa97f-1e43-4954-acba-aa6e81fe2211"
      },
      "execution_count": null,
      "outputs": [
        {
          "output_type": "stream",
          "name": "stdout",
          "text": [
            "enter your name:Bradley\n",
            "Hello, Bradley ! Welcome to Python.\n"
          ]
        }
      ]
    },
    {
      "cell_type": "markdown",
      "source": [
        "Simple Calculator\n"
      ],
      "metadata": {
        "id": "VHO1OMp8d-E0"
      }
    },
    {
      "cell_type": "code",
      "source": [
        "num1 = float(input(\"Enter the first number:\"))\n",
        "num2 = float(input(\"Enter the second number:\"))\n",
        "\n",
        "sum_result = num1 + num2\n",
        "print(\"The sum is:\", sum_result)\n",
        "num1 = float(input(\"Enter the first number:\"))\n",
        "num2 = float(input(\"Enter the second number:\"))\n",
        "\n",
        "sum_result = num1 + num2\n",
        "print(\"The sum is:\", sum_result)\n",
        "\n",
        "sub_result = num1 - num2\n",
        "print(\"The subtraction is:\", sub_result)"
      ],
      "metadata": {
        "colab": {
          "base_uri": "https://localhost:8080/"
        },
        "id": "0c5kc5xOeESL",
        "outputId": "4d94a9f6-7fcc-4009-ac70-393205e34741"
      },
      "execution_count": null,
      "outputs": [
        {
          "output_type": "stream",
          "name": "stdout",
          "text": [
            "Enter the first number:2\n",
            "Enter the second number:3\n",
            "The sum is: 5.0\n",
            "Enter the first number:9\n",
            "Enter the second number:0\n",
            "The sum is: 9.0\n",
            "The subtraction is: 9.0\n"
          ]
        }
      ]
    },
    {
      "cell_type": "markdown",
      "source": [
        "Even or Odd Check"
      ],
      "metadata": {
        "id": "zVlVYxAcevna"
      }
    },
    {
      "cell_type": "code",
      "source": [
        "num = int(input(\"enter a number: \"))\n",
        "\n",
        "if num % 2 == 0:\n",
        "    print(num, \"is even.\")\n",
        "else:\n",
        "    print(num, \"is odd.\")\n",
        "if num > 0:\n",
        "  print (num, \"is positive\")\n",
        "elif num < 0:\n",
        "  print(num, \"is negative\")\n",
        "else:\n",
        "  print(num, \"is zero\")"
      ],
      "metadata": {
        "colab": {
          "base_uri": "https://localhost:8080/"
        },
        "id": "QKm-Al9UeNdj",
        "outputId": "f1ad5e19-adcb-4107-ebdd-659cb57724e2"
      },
      "execution_count": null,
      "outputs": [
        {
          "output_type": "stream",
          "name": "stdout",
          "text": [
            "enter a number: 7\n",
            "7 is odd.\n",
            "7 is positive\n"
          ]
        }
      ]
    },
    {
      "cell_type": "markdown",
      "source": [
        "Guess the Number Game"
      ],
      "metadata": {
        "id": "RmpbxNYkfXxx"
      }
    },
    {
      "cell_type": "code",
      "source": [
        "import random\n",
        "\n",
        "secret_number = random.randint(1,10)\n",
        "guess = int(input(\"Guess a number between 1 and 10:\"))\n",
        "\n",
        "if guess == secret_number:\n",
        "  print(\"Congratualations! You guessed it right.\")\n",
        "else:\n",
        "  print(\"Sorry, the correct number was:\", secret_number)\n",
        "  if guess < secret_number:\n",
        "    print(\"Your guess is too low.\")\n",
        "  else:\n",
        "    print(\"Your guess is too high.\")\n"
      ],
      "metadata": {
        "colab": {
          "base_uri": "https://localhost:8080/"
        },
        "id": "oQ-Hfq_De8Nj",
        "outputId": "51a1a727-35c4-434e-f28c-3e9fabf62f3f"
      },
      "execution_count": null,
      "outputs": [
        {
          "output_type": "stream",
          "name": "stdout",
          "text": [
            "Guess a number between 1 and 10:7\n",
            "Sorry, the correct number was: 9\n",
            "Your guess is too low.\n"
          ]
        }
      ]
    },
    {
      "source": [
        "import random\n",
        "\n",
        "secret_number = random.randint(1, 10)\n",
        "max_attempts = 3  # Set the maximum number of attempts\n",
        "attempts = 0\n",
        "\n",
        "while attempts < max_attempts:\n",
        "    attempts += 1\n",
        "    guess = int(input(\"Guess a number between 1 and 10 (Attempt {}/{}): \".format(attempts, max_attempts)))\n",
        "\n",
        "    if guess == secret_number:\n",
        "        print(\"Congratulations! You guessed it right.\")\n",
        "        break  # Exit the loop if the guess is correct\n",
        "    else:\n",
        "        print(\"Sorry, that's incorrect.\")\n",
        "        if guess < secret_number:\n",
        "            print(\"Your guess is too low.\")\n",
        "        else:\n",
        "            print(\"Your guess is too high.\")\n",
        "\n",
        "if attempts == max_attempts and guess != secret_number:\n",
        "    print(\"Sorry, you've run out of attempts. The correct number was:\", secret_number)"
      ],
      "cell_type": "code",
      "metadata": {
        "colab": {
          "base_uri": "https://localhost:8080/"
        },
        "id": "9idVGU6shZ6z",
        "outputId": "0baa0240-2505-41ba-9101-78e59a3d1b67"
      },
      "execution_count": null,
      "outputs": [
        {
          "output_type": "stream",
          "name": "stdout",
          "text": [
            "Guess a number between 1 and 10 (Attempt 1/3): 8\n",
            "Congratulations! You guessed it right.\n"
          ]
        }
      ]
    },
    {
      "cell_type": "markdown",
      "source": [
        "Loop Through a List"
      ],
      "metadata": {
        "id": "Cvsfx6goh_H3"
      }
    },
    {
      "cell_type": "code",
      "source": [
        "foods = [ \"Pizza\", \"Burger\", \"Sushi\", \"Pasta\"]\n",
        "\n",
        "for food in foods:\n",
        "  print(food)\n",
        "\n",
        "favorite_food =  input(\"what is your favorite food?\")\n",
        "print(\"I like\", favorite_food, \"too!\")\n",
        "\n"
      ],
      "metadata": {
        "colab": {
          "base_uri": "https://localhost:8080/"
        },
        "id": "cxcqJtzFiBFH",
        "outputId": "eb643e3b-00e4-43b4-a43a-50bea8329727"
      },
      "execution_count": null,
      "outputs": [
        {
          "output_type": "stream",
          "name": "stdout",
          "text": [
            "Pizza\n",
            "Burger\n",
            "Sushi\n",
            "Pasta\n",
            "what is your favorite food? BBQ chicken \n",
            "I like  BBQ chicken  too!\n"
          ]
        }
      ]
    },
    {
      "cell_type": "markdown",
      "source": [
        "List order"
      ],
      "metadata": {
        "id": "eB43-WF-i8w-"
      }
    },
    {
      "cell_type": "code",
      "source": [
        "fruits = [\"apple\", \"banana\", \"cherry\"]\n",
        "\n",
        "print(fruits[0])\n",
        "\n",
        "fruits.append(\"orange\")\n",
        "\n",
        "fruits.remove(\"banana\")\n",
        "\n",
        "for fruit in fruits:\n",
        "  print(fruit)\n"
      ],
      "metadata": {
        "colab": {
          "base_uri": "https://localhost:8080/"
        },
        "id": "Cf9chKqqiRYm",
        "outputId": "a24365e1-d153-4d1e-95a6-444baf10b6c7"
      },
      "execution_count": null,
      "outputs": [
        {
          "output_type": "stream",
          "name": "stdout",
          "text": [
            "apple\n",
            "apple\n",
            "cherry\n",
            "orange\n"
          ]
        }
      ]
    },
    {
      "cell_type": "markdown",
      "source": [
        "Tuples (Immaculate Collection)"
      ],
      "metadata": {
        "id": "DtRcame6lYLf"
      }
    },
    {
      "cell_type": "code",
      "source": [
        "cordinates = (10, 20)\n",
        "print(cordinates[0])"
      ],
      "metadata": {
        "colab": {
          "base_uri": "https://localhost:8080/"
        },
        "id": "eEcG64_1lGXu",
        "outputId": "c833f7eb-a8b0-43e1-8741-6492d1fa8a97"
      },
      "execution_count": 1,
      "outputs": [
        {
          "output_type": "stream",
          "name": "stdout",
          "text": [
            "10\n"
          ]
        }
      ]
    },
    {
      "cell_type": "markdown",
      "source": [
        "Dictoniary (Key-Value pairs)"
      ],
      "metadata": {
        "id": "HZ3a3tvWXDus"
      }
    },
    {
      "cell_type": "code",
      "source": [
        "person = {\n",
        "    \"name\": \"Alice\",\n",
        "    \"age\": 25,\n",
        "    \"city\": \"New York\"\n",
        "}\n",
        "\n",
        "# Accessing values\n",
        "print(person[\"name\"])  # Alice\n",
        "\n",
        "# Adding new key-value pairs\n",
        "person[\"job\"] = \"Data Scientist\"\n",
        "\n",
        "person[\"hobbies\"] = {}\n",
        "\n",
        "person[\"hobbies\"] = [\"Reading\", \"Traveling\", \"Cooking\"]\n",
        "\n",
        "print(person[\"hobbies\"])\n",
        "\n",
        "# Looping through dictionary\n",
        "for key, value in person.items():\n",
        "    print(key, \":\", value)"
      ],
      "metadata": {
        "colab": {
          "base_uri": "https://localhost:8080/"
        },
        "id": "E2rU4HgYc0wy",
        "outputId": "0c824ef0-2e20-4095-db6a-b6a4ed7f3b39"
      },
      "execution_count": 16,
      "outputs": [
        {
          "output_type": "stream",
          "name": "stdout",
          "text": [
            "Alice\n",
            "['Reading', 'Traveling', 'Cooking']\n",
            "name : Alice\n",
            "age : 25\n",
            "city : New York\n",
            "job : Data Scientist\n",
            "hobbies : ['Reading', 'Traveling', 'Cooking']\n"
          ]
        }
      ]
    },
    {
      "cell_type": "code",
      "source": [
        "Sets (Unique collection)"
      ],
      "metadata": {
        "id": "_8zK2O0ieA5j"
      },
      "execution_count": null,
      "outputs": []
    },
    {
      "cell_type": "code",
      "source": [
        "numbers = {1, 2, 3, 3, 4, 5}\n",
        "numbers.add(6)\n",
        "print(numbers)\n"
      ],
      "metadata": {
        "colab": {
          "base_uri": "https://localhost:8080/"
        },
        "id": "3DQrRU5Rd2Sk",
        "outputId": "81b6a131-d4e2-45d0-b255-16b3312f6d66"
      },
      "execution_count": 17,
      "outputs": [
        {
          "output_type": "stream",
          "name": "stdout",
          "text": [
            "{1, 2, 3, 4, 5, 6}\n"
          ]
        }
      ]
    },
    {
      "cell_type": "markdown",
      "source": [
        "writing To a File"
      ],
      "metadata": {
        "id": "HMEBGkuFemuV"
      }
    },
    {
      "cell_type": "code",
      "source": [
        "with open(\"example.txt\", \"w\") as file:\n",
        "  file.write(\"Hello, This is a test file!\")\n",
        "\n",
        "  with open(\"example.txt\", \"r\") as file:\n",
        "    content = file.read()\n",
        "    print(\"Hello, This is a test file!\")"
      ],
      "metadata": {
        "colab": {
          "base_uri": "https://localhost:8080/"
        },
        "id": "Mac8Ikvneaz5",
        "outputId": "2161539c-d881-4fe6-baeb-b0f0bf6074c1"
      },
      "execution_count": 24,
      "outputs": [
        {
          "output_type": "stream",
          "name": "stdout",
          "text": [
            "Hello, This is a test file!\n"
          ]
        }
      ]
    },
    {
      "cell_type": "markdown",
      "source": [
        "Basic Automation in Python"
      ],
      "metadata": {
        "id": "eorRiObCgZ-U"
      }
    },
    {
      "cell_type": "code",
      "source": [
        "import smtplib\n",
        "\n",
        "server = smtplib.SMTP(\"smtp.gmail.com\", 587)\n",
        "server.starttls()\n",
        "server.login(\"beeimon93@gmail.com\", \"fgce shsu usqz bucy\")\n",
        "server.sendmail(\"beeimon93@gmail.com\", \"bradleyintro@gmail.com\", \"Hello from Python!\")\n",
        "server.quit()"
      ],
      "metadata": {
        "colab": {
          "base_uri": "https://localhost:8080/"
        },
        "id": "jNFV-oOYgedS",
        "outputId": "55f0e11f-2edb-4e8d-9b1d-75a9ef00350a"
      },
      "execution_count": 28,
      "outputs": [
        {
          "output_type": "execute_result",
          "data": {
            "text/plain": [
              "(221,\n",
              " b'2.0.0 closing connection d2e1a72fcca58-73711694b72sm7884334b3a.133 - gsmtp')"
            ]
          },
          "metadata": {},
          "execution_count": 28
        }
      ]
    },
    {
      "cell_type": "markdown",
      "source": [
        "Web Scrapping with BeautifulSoup  "
      ],
      "metadata": {
        "id": "AaVjXhP2li6E"
      }
    },
    {
      "cell_type": "code",
      "source": [
        "import requests\n",
        "from bs4 import BeautifulSoup\n",
        "\n",
        "url = \"https://www.example.com\"\n",
        "response = requests.get(url)\n",
        "\n",
        "soup = BeautifulSoup(response.text, \"html.parser\")\n",
        "\n",
        "title = soup.title.string\n",
        "print(title)"
      ],
      "metadata": {
        "colab": {
          "base_uri": "https://localhost:8080/"
        },
        "id": "HnRlPTDfltMJ",
        "outputId": "7720ac91-8e2c-4fc0-9688-898b09a3296a"
      },
      "execution_count": 29,
      "outputs": [
        {
          "output_type": "stream",
          "name": "stdout",
          "text": [
            "Example Domain\n"
          ]
        }
      ]
    },
    {
      "cell_type": "markdown",
      "source": [
        "Automating a Simple To do List"
      ],
      "metadata": {
        "id": "p9dcPA-wmF9F"
      }
    },
    {
      "cell_type": "code",
      "source": [
        "import os\n",
        "\n",
        "# File to store tasks\n",
        "FILE_NAME = \"tasks.txt\"\n",
        "\n",
        "# Function to load tasks from file\n",
        "def load_tasks():\n",
        "    if os.path.exists(FILE_NAME):\n",
        "        with open(FILE_NAME, \"r\") as file:\n",
        "            return [task.strip() for task in file.readlines()]\n",
        "    return []\n",
        "\n",
        "# Function to save tasks to file\n",
        "def save_tasks(tasks):\n",
        "    with open(FILE_NAME, \"w\") as file:\n",
        "        for task in tasks:\n",
        "            file.write(task + \"\\n\")\n",
        "\n",
        "# Function to display tasks\n",
        "def show_tasks(tasks):\n",
        "    if not tasks:\n",
        "        print(\"\\n📌 No tasks in your to-do list.\")\n",
        "    else:\n",
        "        print(\"\\n📝 Your To-Do List:\")\n",
        "        for index, task in enumerate(tasks, 1):\n",
        "            print(f\"{index}. {task}\")\n",
        "\n",
        "# Main program\n",
        "def main():\n",
        "    tasks = load_tasks()\n",
        "\n",
        "    while True:\n",
        "        print(\"\\n📋 To-Do List Menu:\")\n",
        "        print(\"1️⃣ Add a Task\")\n",
        "        print(\"2️⃣ View Tasks\")\n",
        "        print(\"3️⃣ Remove a Task\")\n",
        "        print(\"4️⃣ Exit\")\n",
        "\n",
        "        choice = input(\"Choose an option (1-4): \").strip()\n",
        "\n",
        "        if choice == \"1\":\n",
        "            task = input(\"Enter a new task: \").strip()\n",
        "            if task:\n",
        "                tasks.append(task)\n",
        "                save_tasks(tasks)\n",
        "                print(\"✅ Task added!\")\n",
        "            else:\n",
        "                print(\"⚠️ Task cannot be empty.\")\n",
        "\n",
        "        elif choice == \"2\":\n",
        "            show_tasks(tasks)\n",
        "\n",
        "        elif choice == \"3\":\n",
        "            show_tasks(tasks)\n",
        "            try:\n",
        "                task_num = int(input(\"Enter task number to remove: \"))\n",
        "                if 1 <= task_num <= len(tasks):\n",
        "                    removed_task = tasks.pop(task_num - 1)\n",
        "                    save_tasks(tasks)\n",
        "                    print(f\"❌ Removed: {removed_task}\")\n",
        "                else:\n",
        "                    print(\"⚠️ Invalid task number.\")\n",
        "            except ValueError:\n",
        "                print(\"⚠️ Please enter a valid number.\")\n",
        "\n",
        "        elif choice == \"4\":\n",
        "            print(\"🚀 Exiting... Your tasks are saved.\")\n",
        "            break\n",
        "\n",
        "        else:\n",
        "            print(\"⚠️ Invalid choice. Please select a valid option.\")\n",
        "\n",
        "# Run the to-do list program\n",
        "if __name__ == \"__main__\":\n",
        "    main()"
      ],
      "metadata": {
        "colab": {
          "base_uri": "https://localhost:8080/"
        },
        "id": "9rPvwSb7rqVP",
        "outputId": "f69d9700-0538-4a5c-ee58-73cbfafb33cb"
      },
      "execution_count": 34,
      "outputs": [
        {
          "output_type": "stream",
          "name": "stdout",
          "text": [
            "\n",
            "📋 To-Do List Menu:\n",
            "1️⃣ Add a Task\n",
            "2️⃣ View Tasks\n",
            "3️⃣ Remove a Task\n",
            "4️⃣ Exit\n",
            "Choose an option (1-4): 1 done\n",
            "⚠️ Invalid choice. Please select a valid option.\n",
            "\n",
            "📋 To-Do List Menu:\n",
            "1️⃣ Add a Task\n",
            "2️⃣ View Tasks\n",
            "3️⃣ Remove a Task\n",
            "4️⃣ Exit\n",
            "Choose an option (1-4): 1\n",
            "Enter a new task: Read book\n",
            "✅ Task added!\n",
            "\n",
            "📋 To-Do List Menu:\n",
            "1️⃣ Add a Task\n",
            "2️⃣ View Tasks\n",
            "3️⃣ Remove a Task\n",
            "4️⃣ Exit\n",
            "Choose an option (1-4): 4\n",
            "🚀 Exiting... Your tasks are saved.\n"
          ]
        }
      ]
    },
    {
      "cell_type": "markdown",
      "source": [],
      "metadata": {
        "id": "FX2Pv8PmsCCA"
      }
    }
  ]
}